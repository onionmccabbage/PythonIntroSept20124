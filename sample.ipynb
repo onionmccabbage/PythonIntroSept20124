{
  "metadata": {
    "kernelspec": {
      "name": "python",
      "display_name": "Python (Pyodide)",
      "language": "python"
    },
    "language_info": {
      "codemirror_mode": {
        "name": "python",
        "version": 3
      },
      "file_extension": ".py",
      "mimetype": "text/x-python",
      "name": "python",
      "nbconvert_exporter": "python",
      "pygments_lexer": "ipython3",
      "version": "3.8"
    }
  },
  "nbformat_minor": 4,
  "nbformat": 4,
  "cells": [
    {
      "cell_type": "markdown",
      "source": "## We can use Markdown",
      "metadata": {}
    },
    {
      "cell_type": "code",
      "source": "# here we can write python code in a web broser\na = 3.2\nb = 7\nb/a",
      "metadata": {
        "trusted": true
      },
      "outputs": [
        {
          "execution_count": 1,
          "output_type": "execute_result",
          "data": {
            "text/plain": "2.1875"
          },
          "metadata": {}
        }
      ],
      "execution_count": 1
    },
    {
      "cell_type": "code",
      "source": "l = [5,4,3,2,1]\nl",
      "metadata": {
        "trusted": true
      },
      "outputs": [
        {
          "execution_count": 2,
          "output_type": "execute_result",
          "data": {
            "text/plain": "[5, 4, 3, 2, 1]"
          },
          "metadata": {}
        }
      ],
      "execution_count": 2
    },
    {
      "cell_type": "code",
      "source": "l[3]",
      "metadata": {
        "trusted": true
      },
      "outputs": [
        {
          "execution_count": 4,
          "output_type": "execute_result",
          "data": {
            "text/plain": "2"
          },
          "metadata": {}
        }
      ],
      "execution_count": 4
    },
    {
      "cell_type": "code",
      "source": "# use the built-in data structures for modelling until they no longer suit the purpose\n# a class is useful to gather related data (like any other structure) and add functionality\n\n# in Python everything is an object, including classes\n# By convention we use CamelCase but Python doesnt care\nclass Weather(): # or class Weather: or class Weather(object)\n    '''this class will encapsulate temperature and wind-speed'''\n    __slots__ = ['__temperature', '__windspeed']\n    def __init__(self, t, w): # we must provide 'self' for any class methods\n        '''this initialiser will be called every time we make an instance of this class'''\n        self.temperature = t # even though this looks like a property, it calls a function\n        self.windspeed = w\n    # we often need to validate the properties of a class\n    @property # this is how we declare a property GETTER (to retrieve a property from a class)\n    def temperature(self):\n        return self.__temperature # leading double-underscore prevents direct access to the proeprty\n    # temperature must be an in or a float\n    @temperature.setter # thjis is how we declare a property SETTER (to mutate a property of a class)\n    def temperature(self, new_t):\n        if type(new_t) in (int, float):\n            # we use name-mangling to prevent direct access to properties\n            self.__temperature = new_t\n        else:\n            self.__temperature = 12 # set a sensible default (we could raise exception)\n    # temperature must be an in or a float\n    @property\n    def windspeed(self): # getter\n        return self.__windspeed\n    @windspeed.setter # setter\n    def windspeed(self, new_w):\n        if type(new_w) in (int, float):\n            self.__windspeed = new_w\n        else:\n            raise(Exception) # raise exception\n    # Every object implements __str__ so we override the built-in __str__ with our own\n    def __str__(self):\n        '''when we override __str__ we instruct on how to print'''\n        return f'Weather report: temperature {self.temperature} wind-speed {self.windspeed}'\n    def __repr__(self):\n        '''when we override __str__ we instruct on how to print'''\n        return f'Weather report: temperature {self.temperature} wind-speed {self.windspeed}'\n\n# we can create instances of our class\nw1 = Weather('99', 44)\n# a potential problem is we may accidentaly change properties\nw1.temperature = False\n# w1.windspeed = []\n# remember, print will ALWAYS invoke the __str__ of the object being printed\nw1\n# are we able to directly access __ properties (NO!!!)\n# print( w1.__temperature )\n# oh dear - we CAN addarbitrary properties to our instances\n# ...unless we limit the __slots__\n# w1.__temperature = 'not yet' # this adds an additional arbitrary property\n# print(w1.__temperature)\n",
      "metadata": {
        "trusted": true
      },
      "outputs": [
        {
          "execution_count": 6,
          "output_type": "execute_result",
          "data": {
            "text/plain": "Weather report: temperature 12 wind-speed 44"
          },
          "metadata": {}
        }
      ],
      "execution_count": 6
    },
    {
      "cell_type": "code",
      "source": "",
      "metadata": {
        "trusted": true
      },
      "outputs": [],
      "execution_count": null
    }
  ]
}